{
 "cells": [
  {
   "cell_type": "code",
   "execution_count": 1,
   "metadata": {},
   "outputs": [],
   "source": [
    "import zmq"
   ]
  },
  {
   "cell_type": "code",
   "execution_count": 2,
   "metadata": {},
   "outputs": [],
   "source": [
    "def remote_send(socket, data):\n",
    "    try:\n",
    "        socket.send_string(data)\n",
    "        msg = socket.recv_string()\n",
    "        return (msg)\n",
    "    except zmq.Again as e:\n",
    "        print (\"Waiting for PUSH from MetaTrader 4..\")"
   ]
  },
  {
   "cell_type": "code",
   "execution_count": 3,
   "metadata": {},
   "outputs": [
    {
     "data": {
      "text/plain": [
       "['24.77', '24.79', '0', '0', '2700', '2700', '0', '0']"
      ]
     },
     "execution_count": 3,
     "metadata": {},
     "output_type": "execute_result"
    }
   ],
   "source": [
    "# Get zmq context\n",
    "context = zmq.Context()\n",
    "\n",
    "# Create REQ Socket\n",
    "reqSocket = context.socket(zmq.REQ)\n",
    "reqSocket.connect(\"tcp://localhost:5555\")\n",
    "\n",
    "# Send RATES command to ZeroMQ MT4 EA\n",
    "petr4 = remote_send(reqSocket, \"RATES|PETR4\")\n",
    "\n",
    "petr4.split(',')\n",
    "# bid, ask, buy_volume, sell_volume, tick_volume, real_volume, buy_volume_market, sell_volume_market"
   ]
  }
 ],
 "metadata": {
  "kernelspec": {
   "display_name": "Python 3",
   "language": "python",
   "name": "python3"
  },
  "language_info": {
   "codemirror_mode": {
    "name": "ipython",
    "version": 3
   },
   "file_extension": ".py",
   "mimetype": "text/x-python",
   "name": "python",
   "nbconvert_exporter": "python",
   "pygments_lexer": "ipython3",
   "version": "3.7.1"
  }
 },
 "nbformat": 4,
 "nbformat_minor": 2
}
